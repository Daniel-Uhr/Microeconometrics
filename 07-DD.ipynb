{
 "cells": [
  {
   "cell_type": "markdown",
   "metadata": {},
   "source": [
    "# Método de Diferença em Difereneças (Difference-in-Differences)\n",
    "\n",
    "Prof. Daniel de Abreu Pereira Uhr\n",
    "\n",
    "\n",
    "## Conteúdo\n",
    "\n",
    "* Introdução ao Método de Diferença em Diferenças\n",
    "* Notações Gerais\n",
    "* DD Canônico Simples (2x2)\n",
    "* Hipóteses de Identificação\n",
    "* Modelo DD por meio de Regressões\n",
    "  * Modelo Canônico Simples (2x2)\n",
    "  * Modelo Canônico Simples (2x2) com Controles\n",
    "  * Modelo Canônico com Vários Períodos de Tempo e Controles\n",
    "  * Modelo Canônico com Intervenção Aplicada em Dimensão Agregada, vários períodos de tempo e Controles \n",
    "  * Especificação Típica para Dados em Painel (Two-Way Fixed Effecs - TWFE)\n",
    "* Evidências para a Hipótese de Tendências Paralelas\n",
    "  * Event Study Design\n",
    "* Aplicação em Python 1\n",
    "* Aplicação em Python 2\n",
    "\n",
    "\n",
    "## Referências\n",
    "\n",
    "* Cunningham, S. W. (2013). Causal inference: The mixtape. https://www.scunning.com/mixtape.html\n",
    "* Roth, Sant´Anna, Bilinski and Poe (2023), What’s Trending in Difference-in-Differences? A Synthesis of the Recent Econometrics Literature.\n",
    "* Joshua D. Angrist and Jörn-Steffen Pischke (2009). Mostly Harmless Econometrics: An Empiricist's Companion. Princeton University Press.\n",
    "* Facure, Matheus. Causal Inference for Brave and True. https://matheusfacure.github.io/python-causality-handbook/landing-page.html \n",
    "* [Avaliação Econômica de Projetos Sociais. Itaú Social, 2017](https://www.itausocial.org.br/wp-content/uploads/2018/05/avaliacao-economica-3a-ed_1513188151.pdf). Capítulos 1, 2 e 3. \n",
    "* Card and Krueger (1994). Minimum Wages and Employment: A Case Study of the Fast-Food Industry in New Jersey and Pennsylvania. American Economic Review, 84(4):772-793. (https://davidcard.berkeley.edu/papers/njmin-aer.pdf)\n",
    "* Notas próprias.​"
   ]
  },
  {
   "cell_type": "markdown",
   "metadata": {},
   "source": [
    "### Introdução ao Método de Diferença em Diferenças\n",
    "\n",
    "O **método de diferenças em diferenças** (Difference-in-Differences / Diff-in-diff / DID / DD) é uma técnica econométrica utilizada para estimar o **efeito causal** de uma intervenção, política ou tratamento em um grupo de unidades observacionais ao longo do tempo. O método de DD é baseado no cálculo de uma dupla subtração: a primeira se refere à diferença das médias da variável de resultado entre os períodos anterior e posterior à intervenção para o grupo de tratamento e para o de controle, e a segunda se refere à diferença da primeira diferença calculada entre esses dois grupos. Naturalmente, a operacionalização do método requer a existência de informações para ambos os grupos para, pelo menos, um período de tempo antes e um período depois da intervenção. Pode ser utilizado tanto com **dados de painel** quanto com **dados seccionais** (cross-section) repetidos no tempo. Os primeiros tipicamente referem-se a informações de indivíduos, famílias ou empresas que são seguidos ao longo do tempo, enquanto os segundos são dados temporais calculados para unidades mais agregadas, tais como escolas, hospitais, setores de atividade, bairros, municípios ou estados.\n",
    "\n",
    "Outra importante vantagem do método de DD é que ele permite o controle do viés de seleção por características não observáveis invariantes no tempo. "
   ]
  },
  {
   "cell_type": "markdown",
   "metadata": {},
   "source": [
    "#### Notações Gerais\n",
    "\n",
    "A literatura não apresenta uma notação padrão para o método de DD. A tabela abaixo apresenta uma notação geralmente utilizada para o método de DD.\n",
    "\n",
    "\n",
    "| Símbolo | Significado | \n",
    "|:-----: | :---------:|\n",
    "|$$Y_{i,t} $$ | Variável de resultado para o indivíduo i no momento t|\n",
    "|$$D_{i}=0 $$ | Indivíduos i que não receberam o tratamento (grupo de controle ou de comparação)|\n",
    "|$$D_{i}=1 $$ | Indivíduos i que receberam o tratamento (grupo de tratamento)|\n",
    "|$$t=1,..,t_0$$ | Períodos pré-tratamento (baseline)|\n",
    "|$$t= t_0+1, ..., t$$ | Períodos pós-tratamento|\n",
    "|$$Y_{i,t}(D=1) $$ | Resultado dos individuos i tratados no tempo t|\n",
    "|$$Y_{i,t}(D=0) $$ | Resultado dos individuos i não tratados no tempo t|\n",
    "|$$X$$ | Covariáveis|\n"
   ]
  },
  {
   "cell_type": "markdown",
   "metadata": {},
   "source": [
    "#### DD Canônico Simples (2x2)\n",
    "\n",
    "Para entender o método de forma mais rápida e clara, é importante começar com o modelo mais simples. Goodman-Bancon chama o método DD Canônico Simples de 2x2. Isto é, o caso de dois grupos e dois períodos de tempo. Então vamos utilizar a notação definida anteriormente para modelar nosso DD 2x2. $Y_{i,t}(0,0)$ denota o resultado potencial no período $t$ se $i$ permanece não tratado em ambos os períodos. Caso contrário, considere $Y_{i,t}(0,1)$ como o resultado potencial para a unidade $i$ no período $t$ se $i$ permanece não tratada no primeiro período mas é exposta ao tratamento no segundo período. Para simplificar a notação, podemos escrever $Y_{i,t}(0)= Y_{i,t}(0,0)$ e $Y_{i,t}(1)= Y_{i,t}(0,1)$.\n",
    "\n",
    "Devido ao problema fundamental da inferência causal (Holland, 1986), nós observamos apenas um dos dois resultados possíveis para cada unidade $i$:\n",
    "\n",
    "$$ Y_{i,t}= D_{i} Y_{i,t}(1) + (1-D_{i}) Y_{i,t}(0) $$\n",
    "\n",
    "\n",
    "Onde o desenho do DD tem um grupo de tratamento ($D=1$) e um grupo de não tratados ($D=0$). Existe um período pré-tratamento ($t=1$) para o grupo tratado $Y_{i,t=1}(1)$, e um período pós tratamento $Y_{i,t=2}(1)$. O mesmo vale para o grupo de controle, $Y_{i,t=1}(0)$ e $Y_{i,t=2}(0)$.\n",
    "\n",
    "$$ \\hat{\\beta}_{ATT}^{2x2} = (\\overline{Y}_{i,t=2}(1) - \\overline{Y}_{i,t=1}(1)) - (\\overline{Y}_{i,t=2}(0) - \\overline{Y}_{i,t=1}(0)) $$\n",
    "\n",
    "onde o $\\hat{\\beta}_{ATT}^{2x2}$ é o ATT estimado para o grupo tratado $D=1$. $\\overline{y}$ é a média amostral para aquele grupo específico em um determinado período de tempo.  \n",
    "\n",
    "Vamos representar em termos de esperanças condicionais (assumindo uma amostragem de uma população grande):\n",
    "\n",
    "$$ \\hat{\\beta}_{ATT}^{2x2} = (E[Y_{i,t=2}(1)|D_{i}=1] - E[Y_{i,t=1}(1)|D_{i}=1]) - (E[Y_{i,t=2}(0)|D_{i}=0] - E[Y_{i,t=1}(0)|D_{i}=0]) $$\n",
    "\n",
    "Faremos um pequeno truque onde adicionamos zero ao lado direito para que possamos usar esses termos para ajudar a ilustrar algo importante.\n",
    "\n",
    "$$ \\hat{\\beta}_{ATT}^{2x2} = \\underbrace{(E[Y_{i,t=2}(1)|D_{i}=1] - E[Y_{i,t=1}(1)|,D_{i}=1]) - (E[Y_{i,t=2}(0)|D_{i}=0] - E[Y_{i,t=1}(0)|D_{i}=0])}_{\\text{Switching Equation}} + \\underbrace{(E[Y_{i,t=2}(0)|D_{i}=1] - E[Y_{i,t=2}(0)|D_{i}=1])}_{Zero} $$\n",
    "\n",
    "Agora simplesmente reorganizamos esses termos para obter a decomposição em termos de resultados potenciais esperados condicionais.\n",
    "\n",
    "$$ \\hat{\\beta}_{ATT}^{2x2} = \\underbrace{(E[Y_{i,t=2}(1)|D=1] - E[Y_{i,t=2}(0)|D=1])}_{\\beta_{ATT}} + \\underbrace{[E[Y_{i,t=2}(0)|D=1] - E[Y_{i,t=1}(1)|D=1]] - (E[Y_{i,t=2}(0)|D=0] - E[Y_{i,t=1}(0)|D=0])}_{\\text{Non-Parallel Trends Bias 2x2}} $$\n",
    "\n",
    "Observe o lado direito da igualdade, mais especificadamente, a primeira parte do segundo termo, ele é o contrafactual. E como já dissemos várias vezes, os contrafactuais não são observáveis. Este resultado final é muitas vezes chamado de **suposição de tendências paralelas** e é, por definição, não testável, uma vez que não podemos observar esta expectativa condicional contrafactual. Voltaremos a isso novamente, mas por enquanto simplesmente apresento-o à sua consideração.\n",
    "\n"
   ]
  },
  {
   "cell_type": "markdown",
   "metadata": {},
   "source": [
    "**Exemplo**\n",
    "\n",
    "Considere duas empresas. No primeiro momento, o salário médio de uma das empresas é de 1000 (Ponto A), e da outra empresa é de 850 (ponto C). A primeira empresa aplica um Programa de Qualificação (tratamento) aos seus funcionários, enquanto a outra empresa não aplica qualquer programa. Posteriormente, observamos os salários das empresas, e a primeira empresa (Grupo Tratado) agora apresenta salários médios de 1100 (Ponto B), enquanto a empresa que não aplicou o programa (Grupo de controle) apresenta salários médios de 900 (Ponto D). A figura ilustra o exemplo.\n",
    "\n",
    "<div style=\"text-align:center;\">\n",
    "    <img src=\"images\\DD_FIG1.png\"  alt=\"Imagem\" style=\"width: 500px;\"/>\n",
    "</div>\n",
    "\n",
    "\n",
    "Repare que caso a empresa tratada não tivesse aplicado o tratamento, esperaríamos que ela seguisse a trajetória de aumento dos salários conforme a empresa do grupo de controle (Ponto E). Assim, a diferença entre os salários que a empresa emprega após o tratamento (ponto B) e o valor que a empresa tratada teria caso não sofresse a política (Ponto E) representa o efeito causal da política.\n",
    "\n",
    "O Gráfico pode ser escrito em uma tabela:"
   ]
  },
  {
   "cell_type": "markdown",
   "metadata": {},
   "source": [
    "\n",
    "|  | Tratado | Controle | Diferença |\n",
    "| :-----:   | :-----: | :-----: | :------: |\n",
    "| Antes (Baseline) | $$\\overline{Y}_{i,t=0}(1)=1000$$ Ponto (A) | $$\\overline{Y}_{i,t=0}(0)=850$$ Ponto (C)  | $$\\overline{Y}_{i,t=0}(1) - \\overline{Y}_{i,t=0}(0) = 150 $$ |\n",
    "| Depois (Followup) | $$\\overline{Y}_{i,t=1}(1)=1100$$ Ponto (B) | $$\\overline{Y}_{i,t=1}(0)=900$$ Ponto (D) | $$\\overline{Y}_{i,t=1}(1) - \\overline{Y}_{i,t=1}(0) = 200 $$ |\n",
    "| Diferença | $$[\\overline{Y}_{i,t=1}(1)-\\overline{Y}_{i,t=0}(1)=100]$$ Trajetória do G.Tratado | $$[\\overline{Y}_{i,t=1}(0)-\\overline{Y}_{i,t=0}(0)=50]$$ Trajetória do G.Controle | $$ (\\overline{Y}_{i,t=1}(1)-\\overline{Y}_{i,t=0}(1)) - (\\overline{Y}_{i,t=1}(0)-\\overline{Y}_{i,t=0}(0))=50$$ Ponto B - E |\n"
   ]
  },
  {
   "cell_type": "markdown",
   "metadata": {},
   "source": [
    "### Hipóteses de Identificação\n",
    "\n",
    "O desafio para identificar o Efeito Médio do Tratamento Sobre os Tratados (Average Treatment Effect on the Treated - ATT) é que os resultados potenciais para os tratados caso eles não fossem tratados não são observáveis. Então o método DD resolve o problema ao imputar o valor da média contrafactual através do uso da \n",
    "\n",
    "* (a) trajetória da variável de resultado do grupo de controle, e \n",
    "* (b) dos valores da variável de resultado dos tratados no período baseline.\n",
    "\n",
    "Hipóteses:\n",
    "\n",
    "> \n",
    "> **Tendências Paralelas (Parallel Trends)**: Essa hipótese supõe que o valor médio da variável de resposta entre o estado contrafactual e seu valor no período baseline para os tratados segue a mestra trajetória do valor médio da variável de resposta do grupo de controle (lembre-se que no baseline ($t=1$), $Y_{i,1}(1) = Y_{i,1}(0)$).\n",
    "> \n",
    "> $$E[Y_{i,2}(0)-Y_{i,1}(0)|D_{i}=1]=E[Y_{i,2}(0)-Y_{i,1}(0)|D_{i}=0]$$\n",
    "> \n",
    "> **Não Antecipação dos Efeitos (No anticipatory effects)**: Essa hipótese supõe que o tratamento não tem efeito causal antes de sua implementação.\n",
    "> $$ Y_{i,1}(0)=Y_{i,1}(1) $$\n",
    "> \n",
    "> **Distribuição dos dados**: Seja $W_{i}=(Y_{i,2}, Y_{i,1}, D_{i})´$ o vetor das variáveis de resultados e do status do tratamento para a unidade $i$. Nós observamos uma amostra de N *i.i.d.* com $W_{i}$~$F$ para alguma distribuição F (desconhecida) satisfazendo as tendências paralelas. Em outras palavras, os dados observados são amostrados de uma população maior de forma independente e identicamente distribuída, onde cada observação segue a mesma distribuição."
   ]
  },
  {
   "cell_type": "markdown",
   "metadata": {},
   "source": [
    "Nosso interesse é identificar o chamado ***\"Efeito do tratamento sobre os tratados\"*** (*Average Treatment Effect on the Treated* - ATT), para o caso de dois períodoso (**Caso Simples**):\n",
    "\n",
    "> \n",
    "> $$ \\beta_{ATT}= E[Y_{i,2}(1)-Y_{i,2}(0)|D_{i}=1] $$\n",
    ">\n",
    "\n",
    "Ou seja, queremos a média da diferença entre a variável de resultado observada dos indivíduos $i$ do grupo que recebeu o tratamento e sua variável de resultado caso este indivíduo $i$ não tivesse recebido o tratamento (contrafactual), dado que estamos avaliando os tratados (condicional ao fato de serem tratados - $D_{i}=1$). Isso para o período 2, onde eles foram tratados."
   ]
  },
  {
   "cell_type": "markdown",
   "metadata": {},
   "source": [
    "### Modelo DD por meio de Regressões\n",
    "\n",
    "#### Modelo Canônico Simples (2x2)\n",
    "\n",
    "Chamaremos de DD canônico quando o tratamento ocorre em um único momento no tempo sobre um grupo de indivíduos específico (tratados). Vamos começar com o modelo mais simples (2x2), isto é com dois períodos de tempo - antes e depois da intervenção.\n",
    "\n",
    ">\n",
    "> $$ Y_{i,t}= \\alpha + \\beta_{1}.d_{t} + \\beta_{2}.D_{i} + \\beta_{3}(D_{i}.d_{t}) + \\epsilon_{i,t} $$\n",
    "> \n",
    "\n",
    "Note que $D_{i}$ e $d_{t}$ aparecem tanto individualmente, quanto interagidas. Suas presenças isoladas captam as diferenças da média de $Y_{i,t}$ entre o grupo de tratamento e controle e entre o período anterior e posterior à intervenção. O termo de interação capta o que ocorreu especificadamente com o grupo de tratamento no período pós-intervenção. O $\\beta_{3}$ identifica o efeito do tratamento.\n",
    "\n",
    "Graficamente:\n",
    "\n",
    "\n",
    "<div style=\"text-align:center;\">\n",
    "    <img src=\"images\\DD_FIG2.png\"  alt=\"Imagem\" style=\"width: 500px;\"/>\n",
    "</div>\n"
   ]
  },
  {
   "cell_type": "markdown",
   "metadata": {},
   "source": [
    "#### Modelo Canônico Simples (2x2) com Controles\n",
    "\n",
    "Agora vamos para o caso de incluir controles (constantes no tempo - posteriormente relaxaremos essa questão e veremos suas implicações). Elas podem absorver parte do efeito que, na ausência delas poderia ser atribuído à intervenção.\n",
    "\n",
    ">\n",
    "> $$ Y_{i,t}= \\alpha + \\beta_{1}.d_{t} + \\beta_{2}.D_{i} + \\beta_{3}(D_{i}.d_{t}) + X_{i}.\\gamma + \\epsilon_{i,t} $$\n",
    "> \n",
    "\n",
    "**A inclusão do vetor de controles no modelo implica que a análise passa ser condicionada em $X_{i}$**, de modo que a os resultados são condicionais $E[Y_{i,t}|D,X,t]$. Essa consideração impõe que as tendências de cada X do grupo tratado seja igual a tendência das variáveis X do grupo de controle. Somente assim, o $\\beta_{3}$ continua identificando o efeito do tratamento. Para evitar, consideramos aqui apenas os controles constantes no tempo.\n",
    "\n",
    "Abordaremos com mais detalhes a questão dos controles na próxima aula."
   ]
  },
  {
   "cell_type": "markdown",
   "metadata": {},
   "source": [
    "#### Modelo Canônico com Vários Períodos de Tempo e Controles\n",
    "\n",
    "Agora vamos expandir a análise para o caso em que há disponibilidade para vários períodos de tempo, $t=1,2,…,T$\n",
    "\n",
    ">\n",
    "> $$ Y_{i,t}= \\alpha + \\lambda_{t} + \\theta.D_{i} + \\beta_{3}(D_{i}.d_{t}) + X_{i}.\\gamma + \\epsilon_{i,t} $$\n",
    "> \n",
    "\n",
    "Graficamente:\n",
    "\n",
    "<div style=\"text-align:center;\">\n",
    "    <img src=\"images\\DD_FIG3.png\"  alt=\"Imagem\" style=\"width: 500px;\"/>\n",
    "</div>\n",
    "\n",
    "Note que haverá diversas variáveis binárias identificando cada ano específico $t$."
   ]
  },
  {
   "cell_type": "markdown",
   "metadata": {},
   "source": [
    "#### Modelo Canônico com Intervenção Aplicada em Dimensão Agregada, vários períodos de tempo e Controles \n",
    "Repare que a intervenção é aplicada numa dimensão agregada ($g$). Esse tipo de análise pode ser aplicada, por exemplo, quando nos deparamos com dados desagregados em nível individual, e nos deparamos com possíveis agregações como escolas, setores, municípios ou estados... Ou seja, queremos verificar o efeito de uma intervenção aplicada no nível agregado sobre a média da variável de resultado dos indivíduos $i$.\n",
    "\n",
    ">\n",
    "> $$ Y_{i,g,t}= \\alpha + \\mu_{g} + \\lambda_{t} + \\theta.D_{g,t} +  X_{g}.\\gamma + \\epsilon_{i,g,t} $$\n",
    "> \n",
    "\n",
    "Note que haverá diversas dummies para controlar os grupos $\\mu_{g}$. Além disso, a variável $D_{g,t}$ que assume valor um caso o indivíduo $i$ é tratado no período $t$. "
   ]
  },
  {
   "cell_type": "markdown",
   "metadata": {},
   "source": [
    "#### Especificação Típica para Dados em Painel (Two-Way Fixed Effecs - TWFE)\n",
    "\n",
    "Nessa especificação controla-se o efeito fixo individual, que representa o elemento que absorve a influência de qualquer característica (observável e não observável) constante no tempo sobre a variável de resultado. \n",
    "\n",
    ">\n",
    "> $$ Y_{i,t}= \\alpha_{i} + \\lambda_{t} + \\beta.D_{i,t} + X_{i,t}.\\gamma + \\epsilon_{i,t} $$\n",
    "> \n",
    "\n",
    "A variável $D_{i,t}$ que assume valor um caso o indivíduo $i$ é tratado no período $t$. No contexto de múltiplos períodos, essa variável cumpre o papel do termo de interação anterior. O método de DD é capaz de contornar o problema de viés de seleção associado às características fixas (observáveis ou não) dos indivíduos no tempo.\n",
    "\n",
    "**Neste modelo TWFE permitimos que as covariáveis se modifiquem no tempo apenas para formulação da equação econométrica, porque a introdução de covariáveis na forma linear não é apropriada se o tratamento apresenta efeitos distintos em diferentes grupos da população.**\n"
   ]
  },
  {
   "cell_type": "markdown",
   "metadata": {},
   "source": [
    "### Inferência\n",
    "\n",
    "Muitos estudos que empregam estratégias de DD utilizam dados de muitos anos – não apenas um período pré-tratamento e um período pós-tratamento (Canônico Simples - 2x2). As variáveis ​​de interesse em muitas dessas configurações variam apenas no nível do grupo, como o estado, e as variáveis ​​de resultado são frequentemente correlacionadas em série. \n",
    "\n",
    "Bertrand, Duflo e Mullainathan (2004) salientam que os erros padrão convencionais muitas vezes subestimam gravemente o desvio padrão dos estimadores e, portanto, os erros padrão são tendenciosos para baixo, “muito pequenos”, e, portanto, rejeitam excessivamente a hipótese nula. Bertrand, Duflo e Mullainathan (2004) propõem as seguintes soluções:\n",
    "\n",
    "* Agregar os dados em um período pré e um pós.\n",
    "* Clustering de erros padrão no nível do grupo.\n",
    "  * Você simplesmente ajusta os erros padrão agrupando-os no nível do grupo."
   ]
  },
  {
   "cell_type": "markdown",
   "metadata": {},
   "source": [
    "### Evidências para a Hipótese de Tendências Paralelas\n",
    "\n",
    "#### Event Study Design\n",
    "\n",
    "Quando temos um painel com a dimensão temporal mais longa, é possível termos uma evidência da hipótese de tendências paralelas por meio do chamado **Event Study Design**. Nesse caso, o modelo é estimado para cada período de tempo, e o **coeficiente de interesse é plotado em função do tempo**. **Se a hipótese de tendências paralelas for válida, os coeficientes estimados devem ser próximos de zero para os períodos anteriores ao tratamento, e próximos do valor do efeito causal para os períodos posteriores ao tratamento**.\n",
    "\n",
    "Considere o modelo de Diff-in-Diff (TWFE) com múltiplos períodos e tratamento: \n",
    "\n",
    "\n",
    ">\n",
    "> $$ Y_{i,t}=  \\beta.D_{i,t} + \\alpha_{i} + \\lambda_{t} + \\epsilon_{i,t} $$\n",
    "> \n",
    "\n",
    "\n",
    "Onde $Y_{i,t}$ é a variável de resultado; $D_{i,t}$ é a variável de tratamento indicativa, onde assume valor 1 no primeiro momento da intervenção, e permanece com esse valor posteriormente. $\\alpha_{i}$ é o efeito fixo individual; e $\\lambda_{t}$ é o efeito fixo temporal. **Sabemos que essa estrutura é flexivel e pode apresentar tanto o tratamento iniciando em um único momento do tempo (modelo canônico), quanto o tratamento iniciando em diferentes momentos no tempo**.\n",
    "\n",
    "Assim, no **Event Study** procura-se identificar as diferentes magnitudes do impacto decorrente do evento (intervenção) para cada ano específico (*“Efeitos heterogêneos do tratamento no tempo”*). Ou seja, desagregamos o efeito médio sobre os tratados $D_{i,t}$, em efeitos heterogêneos temporais específicos $\\sum_{t=0}^{m}[\\beta_{t} D_{i,t}]$. Logo, não queremos verificar apenas o efeito médio do tratamento nos tratados (ATT), mas **verificar como se dá esse efeito durante o período pós-intervenção**. \n",
    "\n",
    "O Event Study desagrega o efeito médio do tratamento sobre os tratados (ATT) no tempo conforme a seguinte equação:\n",
    "\n",
    "$$ 𝑌_{𝑖𝑡} = \\sum_{t=-q}^{−1}[\\phi_{t} D_{i,t}] + \\sum_{t=0}^{m}[\\beta_{t} D_{i,t}] + \\alpha_{i} + \\lambda_{t} +\\epsilon_{𝑖𝑡}$$\n",
    "\n",
    "$D_{i,t}$ é uma função indicadora para os tratados, em cada ano dentro da janela do evento. Tanto antes (*leads*), quanto depois da intervenção (*lag*). Podemos analisar graficamente o efeito. E, também, podemos definir os efeitos de curto prazo (por ex., 0, 1, 2 anos) e longo prazo (por exemplo, 3, 4, 5 anos). \n",
    "\n",
    "Lembre que o  ATT é a média do período posterior à intervenção ($\\beta_{t}$).\n",
    "\n",
    "Essa estrutura do DD também é conhecido na literatura como **Dynamic Difference-in-Differences**\n",
    "\n",
    "**A hipótese de tendências paralelas fica evidenciada quando o período pré-intervenção não apresenta efeito significativo, e o período pós-intervenção apresenta efeito significativo.**\n"
   ]
  },
  {
   "cell_type": "markdown",
   "metadata": {},
   "source": [
    "### Aplicação DD em Python 1\n",
    "\n",
    "Para compreender esse exemplo precisamos lembrar da definição de **Monopsônio**. Considere, por exemplo, um monopsônio em um mercado de contratação de insumos, como o mercado de mão de obra, refere-se à situação em que há um único comprador (ou empregador) dominante (A demanda pela mão de obra é dessa empresa) que enfrenta múltiplos vendedores (ou trabalhadores). Nesse cenário, o empregador tem um grande poder de mercado e pode ditar as condições de contratação, incluindo os salários que está disposto a pagar e as quantidades de trabalhadores que deseja empregar.\n",
    "\n",
    "É lembrar que as empresas sempre maximizam seu lucro ao igualar custo marginal e receita marginal. O custo marginal de contratar um trabalhador adicional é o salário que a empresa deve pagar a esse trabalhador. A receita marginal é o valor que a empresa obtém com a produção adicional desse trabalhador.\n",
    "\n",
    "\n",
    "<div style=\"text-align:center;\">\n",
    "    <img src=\"images\\Monopsonio1.png\"  alt=\"Imagem\" style=\"width: 500px;\"/>\n",
    "</div>\n",
    "\n",
    "* Suponha que você esteja interessado no **efeito dos salários mínimos sobre emprego**, que é uma questão clássica e polêmica.\n",
    "* No **Monopsônio (mercados de trabalho imperfeitos)** um aumento de salários mínimos podem sugerir um efeito oposto, em que o aumento do salário mínimo aumenta o emprego.\n",
    "\n",
    "É aqui que entra o artigo de **Card e Krueger (1994)**. Eles pesquisaram cerca de 400 lojas de fast food em Nova Jersey (NJ) e Pensilvânia (PA) antes e depois do aumento do salário mínimo ocorrido em Nova Jersey.\n",
    "\n",
    "Vejamos isso em termo teóricos:\n",
    "\n",
    "<div style=\"text-align:center;\">\n",
    "    <img src=\"images\\DD_FIG4.png\"  alt=\"Imagem\" style=\"width: 500px;\"/>\n",
    "</div>\n",
    "\n",
    "\n",
    "\n",
    "\n",
    "Voltando à análise de Card e Krueger (1994), em fevereiro de 1992, Nova Jersey aumentou o salário mínimo estadual\n",
    "de US4,25 a US5,05. Enquanto o salário mínimo da Pensilvânia permaneceu em US4,25.\n",
    "\n",
    "\n",
    "\n",
    "<div style=\"text-align:center;\">\n",
    "    <img src=\"images\\DD_FIG5.png\"  alt=\"Imagem\" style=\"width: 500px;\"/>\n",
    "</div>\n",
    "\n",
    "Eles pesquisaram cerca de 400 lojas de fast food em Nova Jersey (NJ) e Pensilvânia (PA) antes e depois do aumento do salário mínimo em Nova Jersey.\n",
    "\n",
    "O Gráfico abaixo mostra a distribuição dos salários nas lojas de cada estado antes da intervenção.\n",
    "\n",
    "<div style=\"text-align:center;\">\n",
    "    <img src=\"images\\DD_FIG6.png\"  alt=\"Imagem\" style=\"width: 500px;\"/>\n",
    "</div>\n",
    "\n",
    "O gráfico abaixo mostra a distribuição dos salários após a intervenção ocorrida em New Jersey.\n",
    "\n",
    "<div style=\"text-align:center;\">\n",
    "    <img src=\"images\\DD_FIG7.png\"  alt=\"Imagem\" style=\"width: 500px;\"/>\n",
    "</div>\n",
    "\n",
    "Temos uma situação de antes e depois, para um estado tratado e outro controle. Vejamos a tabela com as médias e suas diferenças:\n",
    "\n",
    "<div style=\"text-align:center;\">\n",
    "    <img src=\"images\\DD_FIG8.png\"  alt=\"Imagem\" style=\"width: 500px;\"/>\n",
    "</div>\n",
    "\n",
    "Surpreendentemente, o emprego aumentou em NJ em relação ao PA após a mudança do salário mínimo - consistente com a teoria do monopsônio!\n",
    "\n",
    "\n",
    "A regressão para capturar o efeito causal da intervenção:\n",
    "\n",
    ">\n",
    "> $$ Y_{i,t,s}= \\alpha + \\gamma NJ_{s} + \\lambda d_{t} + \\delta (NJ.d)_{st} + \\epsilon_{i,t,s} $$\n",
    "> \n",
    "\n",
    "* $NJ$ é uma variável binária com valor 1 se as observações são do estado NJ;\n",
    "* $d$ é uma variável binária com valor 1 se as observações são de novembro (pós | período posterior ao tratamento)\n",
    "* Dimensões consideradas nos dados ($i, t, s$). o subscrito $i$ indica a loja, o subscrito $t$ indica o tempo, o subscrito $s$ o estado.\n",
    "\n",
    "\n",
    "\n",
    "Graficamente:\n",
    "\n",
    "<div style=\"text-align:center;\">\n",
    "    <img src=\"images\\DD_FIG9.png\"  alt=\"Imagem\" style=\"width: 500px;\"/>\n",
    "</div>\n",
    "\n",
    "\n",
    "* Se as tendências paralelas não forem mantidas, o ATT não será identificado\n",
    "\n",
    "* Mas, independentemente de o ATT ser identificado, o OLS sempre estima a mesma coisa\n",
    "\n",
    "* Isso ocorre porque o OLS usa a inclinação do grupo de controle para estimar o parâmetro DD, que só é imparcial se essa inclinação for a correta tendência contrafactual para o grupo de tratamento"
   ]
  },
  {
   "cell_type": "code",
   "execution_count": 16,
   "metadata": {},
   "outputs": [],
   "source": [
    "# Pacotes\n",
    "import numpy as np\n",
    "import pandas as pd\n",
    "import plotnine as p\n",
    "import statsmodels.api as sm\n",
    "import linearmodels as lm\n",
    "import statsmodels.formula.api as smf"
   ]
  },
  {
   "cell_type": "code",
   "execution_count": 17,
   "metadata": {},
   "outputs": [
    {
     "name": "stdout",
     "output_type": "stream",
     "text": [
      "                            WLS Regression Results                            \n",
      "==============================================================================\n",
      "Dep. Variable:                    fte   R-squared:                       0.008\n",
      "Model:                            WLS   Adj. R-squared:                  0.004\n",
      "Method:                 Least Squares   F-statistic:                     1.429\n",
      "Date:                Thu, 07 Nov 2024   Prob (F-statistic):              0.233\n",
      "Time:                        16:36:46   Log-Likelihood:                -2894.8\n",
      "No. Observations:                 801   AIC:                             5798.\n",
      "Df Residuals:                     797   BIC:                             5816.\n",
      "Df Model:                           3                                         \n",
      "Covariance Type:                  HC1                                         \n",
      "==============================================================================\n",
      "                 coef    std err          z      P>|z|      [0.025      0.975]\n",
      "------------------------------------------------------------------------------\n",
      "Intercept     19.9487      1.317     15.144      0.000      17.367      22.531\n",
      "tratado       -2.8835      1.403     -2.055      0.040      -5.634      -0.133\n",
      "t             -2.4065      1.594     -1.510      0.131      -5.531       0.718\n",
      "effect         2.9140      1.737      1.678      0.093      -0.490       6.318\n",
      "==============================================================================\n",
      "Omnibus:                      245.537   Durbin-Watson:                   1.401\n",
      "Prob(Omnibus):                  0.000   Jarque-Bera (JB):              985.101\n",
      "Skew:                           1.388   Prob(JB):                    1.22e-214\n",
      "Kurtosis:                       7.670   Cond. No.                         11.3\n",
      "==============================================================================\n",
      "\n",
      "Notes:\n",
      "[1] Standard Errors are heteroscedasticity robust (HC1)\n"
     ]
    }
   ],
   "source": [
    "# DataFrame\n",
    "df = pd.read_stata(\"http://fmwww.bc.edu/repec/bocode/c/CardKrueger1994.dta\")\n",
    "\n",
    "# Há problemas na base que precisam ser ajustados\n",
    "df.loc[(df['id'] == 407) & (df['kfc'] == 1), 'id'] = 408\n",
    "# Crie a variável 'tratado' com valor inicial de 0\n",
    "df['tratado'] = 0\n",
    "# Recodifique 'tratado' para 1 se 'treated' for igual a 1\n",
    "df.loc[df['treated'] == 'NJ', 'tratado'] = 1\n",
    "# Crie a variável 'effect' como o produto entre 'tratado' e 't'\n",
    "df['effect'] = df['tratado'] * df['t']\n",
    "\n",
    "# Regressão DD\n",
    "CK1 = smf.wls('fte ~ tratado + t + effect', data=df).fit(cov_type='HC1')\n",
    "print(CK1.summary())"
   ]
  },
  {
   "cell_type": "code",
   "execution_count": 18,
   "metadata": {},
   "outputs": [
    {
     "name": "stdout",
     "output_type": "stream",
     "text": [
      "                            WLS Regression Results                            \n",
      "==============================================================================\n",
      "Dep. Variable:                    fte   R-squared:                       0.188\n",
      "Model:                            WLS   Adj. R-squared:                  0.182\n",
      "Method:                 Least Squares   F-statistic:                     57.30\n",
      "Date:                Thu, 07 Nov 2024   Prob (F-statistic):           6.91e-59\n",
      "Time:                        16:36:47   Log-Likelihood:                -2814.7\n",
      "No. Observations:                 801   AIC:                             5643.\n",
      "Df Residuals:                     794   BIC:                             5676.\n",
      "Df Model:                           6                                         \n",
      "Covariance Type:                  HC1                                         \n",
      "==============================================================================\n",
      "                 coef    std err          z      P>|z|      [0.025      0.975]\n",
      "------------------------------------------------------------------------------\n",
      "Intercept     21.1607      1.307     16.188      0.000      18.599      23.723\n",
      "tratado       -2.3239      1.254     -1.854      0.064      -4.781       0.133\n",
      "t             -2.4027      1.410     -1.704      0.088      -5.167       0.361\n",
      "effect         2.9350      1.543      1.902      0.057      -0.090       5.960\n",
      "bk             0.9169      0.938      0.977      0.328      -0.922       2.756\n",
      "kfc           -9.2049      0.899    -10.238      0.000     -10.967      -7.443\n",
      "roys          -0.8970      1.041     -0.862      0.389      -2.938       1.143\n",
      "==============================================================================\n",
      "Omnibus:                      305.187   Durbin-Watson:                   1.566\n",
      "Prob(Omnibus):                  0.000   Jarque-Bera (JB):             1854.625\n",
      "Skew:                           1.603   Prob(JB):                         0.00\n",
      "Kurtosis:                       9.730   Cond. No.                         12.1\n",
      "==============================================================================\n",
      "\n",
      "Notes:\n",
      "[1] Standard Errors are heteroscedasticity robust (HC1)\n"
     ]
    }
   ],
   "source": [
    "# Regressão DD com covariáveis\n",
    "CK2 = smf.wls('fte ~ tratado + t + effect + bk + kfc + roys', data=df).fit(cov_type='HC1')\n",
    "print(CK2.summary())"
   ]
  },
  {
   "cell_type": "markdown",
   "metadata": {},
   "source": [
    "Podemos montar uma tabela para para comparar os efeitos encontrados em cada estratégia de identificação DD:"
   ]
  },
  {
   "cell_type": "code",
   "execution_count": 31,
   "metadata": {},
   "outputs": [
    {
     "name": "stdout",
     "output_type": "stream",
     "text": [
      "\n",
      "====================================\n",
      "                  CK1        CK2    \n",
      "------------------------------------\n",
      "Intercept      19.9487*** 21.1607***\n",
      "               (1.3173)   (1.3071)  \n",
      "tratado        -2.8835**  -2.3239*  \n",
      "               (1.4033)   (1.2537)  \n",
      "t              -2.4065    -2.4027*  \n",
      "               (1.5941)   (1.4103)  \n",
      "effect         2.9140*    2.9350*   \n",
      "               (1.7368)   (1.5434)  \n",
      "bk                        0.9169    \n",
      "                          (0.9383)  \n",
      "kfc                       -9.2049***\n",
      "                          (0.8991)  \n",
      "roys                      -0.8970   \n",
      "                          (1.0411)  \n",
      "R-squared      0.0080     0.1878    \n",
      "R-squared Adj. 0.0043     0.1817    \n",
      "====================================\n",
      "Standard errors in parentheses.\n",
      "* p<.1, ** p<.05, ***p<.01\n"
     ]
    }
   ],
   "source": [
    "from statsmodels.iolib.summary2 import summary_col\n",
    "\n",
    "results_table = summary_col([CK1, CK2], model_names=['CK1', 'CK2'], stars=True)\n",
    "\n",
    "print(results_table)\n"
   ]
  },
  {
   "cell_type": "markdown",
   "metadata": {},
   "source": [
    "### Aplicação DD em Python 2\n",
    "\n",
    "\n",
    "<div style=\"text-align:center;\">\n",
    "    <img src=\"images\\DD_FIG16.png\"  alt=\"Imagem\" style=\"width: 500px;\"/>\n",
    "</div>\n",
    "\n",
    "\n",
    "\n",
    "A ideia do artigo de Stevenson and Wolfers (2006) é aproveitar que o momento diferente da reforma da lei do divórcio entre os estados fornece um quase-experimento útil para examinar os efeitos dessa mudança. Eles analisam os dados em painel estadual para estimar as mudanças nas taxas de suicídio, violência doméstica e homicídio conjugal decorrentes da mudança na lei do divórcio.\n",
    "\n",
    "Veremos questões teóricas do tratamento em diferentes momentos do tempo de forma mais detalhada na próxima seção. Agora, com a estrutura dos dados do artigo em mente, podemos pensar em montar o **Dynamic Difference-in-Differences** através da técnica de **Event Study**.\n"
   ]
  },
  {
   "cell_type": "code",
   "execution_count": 71,
   "metadata": {},
   "outputs": [
    {
     "name": "stderr",
     "output_type": "stream",
     "text": [
      "C:\\Users\\danie\\AppData\\Local\\Temp\\ipykernel_25900\\1674332887.py:5: FutureWarning: DataFrameGroupBy.grouper is deprecated and will be removed in a future version of pandas.\n"
     ]
    },
    {
     "data": {
      "text/plain": [
       "count    1188.000000\n",
       "mean     1973.583333\n",
       "std         3.539969\n",
       "min      1969.000000\n",
       "25%      1971.000000\n",
       "50%      1973.000000\n",
       "75%      1974.250000\n",
       "max      1985.000000\n",
       "Name: _nfd, dtype: float64"
      ]
     },
     "execution_count": 71,
     "metadata": {},
     "output_type": "execute_result"
    }
   ],
   "source": [
    "data = pd.read_stata(\"https://github.com/Daniel-Uhr/data/raw/main/bacon_example.dta\")\n",
    "\n",
    "# Filtragem dos dados\n",
    "# Vamos criar identificadores estaduais\n",
    "data['id'] = data.groupby('stfips').grouper.group_info[0] + 1\n",
    "# Criar uma nova variável de tempo \"time\"\n",
    "data['time'] = data['year'] - 1963\n",
    "\n",
    "# Outcome (Suicide Mortality)\n",
    "Y = data['asmrs']\n",
    "# Treatment\n",
    "data['D'] = data['post']\n",
    "\n",
    "# Possíveis Covariáveis - 'pcinc', 'asmrh', 'cases'\n",
    "data['_nfd'].describe()"
   ]
  },
  {
   "cell_type": "code",
   "execution_count": 72,
   "metadata": {},
   "outputs": [
    {
     "name": "stdout",
     "output_type": "stream",
     "text": [
      "                            WLS Regression Results                            \n",
      "==============================================================================\n",
      "Dep. Variable:                  asmrs   R-squared:                       0.701\n",
      "Model:                            WLS   Adj. R-squared:                  0.685\n",
      "Method:                 Least Squares   F-statistic:                     41.44\n",
      "Date:                Thu, 07 Nov 2024   Prob (F-statistic):               0.00\n",
      "Time:                        17:04:32   Log-Likelihood:                -6131.8\n",
      "No. Observations:                1617   AIC:                         1.243e+04\n",
      "Df Residuals:                    1535   BIC:                         1.287e+04\n",
      "Df Model:                          81                                         \n",
      "Covariance Type:                  HC1                                         \n",
      "=====================================================================================\n",
      "                        coef    std err          z      P>|z|      [0.025      0.975]\n",
      "-------------------------------------------------------------------------------------\n",
      "Intercept            42.5023      2.412     17.621      0.000      37.775      47.230\n",
      "C(stfips)[T.4]       33.0108      2.323     14.212      0.000      28.458      37.563\n",
      "C(stfips)[T.5]       -0.5985      2.401     -0.249      0.803      -5.304       4.107\n",
      "C(stfips)[T.6]       44.7120      4.824      9.268      0.000      35.257      54.167\n",
      "C(stfips)[T.8]       40.7171      2.572     15.833      0.000      35.677      45.758\n",
      "C(stfips)[T.9]       -0.8109      1.948     -0.416      0.677      -4.629       3.008\n",
      "C(stfips)[T.10]      11.8519      3.507      3.380      0.001       4.979      18.725\n",
      "C(stfips)[T.11]      -4.5073      2.769     -1.628      0.104      -9.934       0.919\n",
      "C(stfips)[T.12]      30.3660      2.071     14.662      0.000      26.307      34.425\n",
      "C(stfips)[T.13]      10.7375      1.894      5.671      0.000       7.026      14.449\n",
      "C(stfips)[T.16]      15.2231      2.463      6.180      0.000      10.395      20.051\n",
      "C(stfips)[T.17]       0.4621      1.821      0.254      0.800      -3.107       4.032\n",
      "C(stfips)[T.18]       5.0054      1.748      2.864      0.004       1.580       8.431\n",
      "C(stfips)[T.19]       1.6954      1.680      1.009      0.313      -1.598       4.989\n",
      "C(stfips)[T.20]       7.6300      1.743      4.378      0.000       4.214      11.046\n",
      "C(stfips)[T.21]       7.4695      1.741      4.290      0.000       4.057      10.882\n",
      "C(stfips)[T.22]      10.5097      2.184      4.812      0.000       6.229      14.790\n",
      "C(stfips)[T.23]       9.4892      2.350      4.038      0.000       4.884      14.095\n",
      "C(stfips)[T.24]       5.7233      2.117      2.703      0.007       1.573       9.873\n",
      "C(stfips)[T.25]      -2.6758      1.632     -1.640      0.101      -5.874       0.523\n",
      "C(stfips)[T.26]      11.2343      1.713      6.557      0.000       7.876      14.592\n",
      "C(stfips)[T.27]       4.1199      1.866      2.207      0.027       0.462       7.778\n",
      "C(stfips)[T.28]      -1.9406      2.489     -0.780      0.436      -6.819       2.938\n",
      "C(stfips)[T.29]       9.2102      1.748      5.270      0.000       5.785      12.635\n",
      "C(stfips)[T.30]      21.3154      2.715      7.850      0.000      15.994      26.637\n",
      "C(stfips)[T.31]       0.5408      2.216      0.244      0.807      -3.803       4.885\n",
      "C(stfips)[T.32]      71.3764      4.690     15.218      0.000      62.184      80.569\n",
      "C(stfips)[T.33]      10.9977      2.555      4.305      0.000       5.990      16.005\n",
      "C(stfips)[T.34]      -9.8202      1.711     -5.738      0.000     -13.174      -6.466\n",
      "C(stfips)[T.35]      27.5205      3.145      8.751      0.000      21.357      33.684\n",
      "C(stfips)[T.36]      -7.6378      2.068     -3.693      0.000     -11.691      -3.584\n",
      "C(stfips)[T.37]       7.0362      1.823      3.861      0.000       3.464      10.608\n",
      "C(stfips)[T.38]      -6.0413      2.654     -2.277      0.023     -11.242      -0.840\n",
      "C(stfips)[T.39]      11.3493      1.811      6.266      0.000       7.800      14.899\n",
      "C(stfips)[T.40]      14.4467      2.393      6.036      0.000       9.756      19.138\n",
      "C(stfips)[T.41]      23.3939      1.925     12.151      0.000      19.620      27.167\n",
      "C(stfips)[T.42]       3.4834      1.608      2.166      0.030       0.331       6.635\n",
      "C(stfips)[T.44]       4.8549      2.619      1.854      0.064      -0.277       9.987\n",
      "C(stfips)[T.45]       4.2210      2.025      2.084      0.037       0.252       8.190\n",
      "C(stfips)[T.46]      -3.0763      2.851     -1.079      0.281      -8.664       2.511\n",
      "C(stfips)[T.47]       5.5478      1.937      2.864      0.004       1.751       9.344\n",
      "C(stfips)[T.48]      13.4385      1.702      7.898      0.000      10.103      16.774\n",
      "C(stfips)[T.49]      15.1437      2.565      5.903      0.000      10.116      20.172\n",
      "C(stfips)[T.50]      12.6696      3.102      4.085      0.000       6.590      18.749\n",
      "C(stfips)[T.51]       7.3475      3.264      2.251      0.024       0.950      13.745\n",
      "C(stfips)[T.53]      24.3916      1.991     12.249      0.000      20.489      28.294\n",
      "C(stfips)[T.54]       3.3805      2.023      1.671      0.095      -0.585       7.346\n",
      "C(stfips)[T.55]      10.6260      1.740      6.108      0.000       7.216      14.036\n",
      "C(stfips)[T.56]      25.2540      3.278      7.705      0.000      18.830      31.678\n",
      "C(year)[T.1965.0]     5.4616      2.712      2.014      0.044       0.147      10.776\n",
      "C(year)[T.1966.0]     2.6245      2.910      0.902      0.367      -3.078       8.327\n",
      "C(year)[T.1967.0]     4.3547      2.393      1.820      0.069      -0.336       9.045\n",
      "C(year)[T.1968.0]     3.6215      2.548      1.421      0.155      -1.372       8.615\n",
      "C(year)[T.1969.0]     6.0404      2.373      2.545      0.011       1.389      10.692\n",
      "C(year)[T.1970.0]     7.3717      2.625      2.809      0.005       2.228      12.516\n",
      "C(year)[T.1971.0]    13.7963      2.707      5.096      0.000       8.490      19.103\n",
      "C(year)[T.1972.0]     8.2244      2.684      3.064      0.002       2.964      13.485\n",
      "C(year)[T.1973.0]     9.9938      2.579      3.875      0.000       4.939      15.049\n",
      "C(year)[T.1974.0]    10.7824      2.501      4.311      0.000       5.881      15.684\n",
      "C(year)[T.1975.0]    13.8359      2.735      5.059      0.000       8.476      19.196\n",
      "C(year)[T.1976.0]     8.9219      2.783      3.206      0.001       3.467      14.377\n",
      "C(year)[T.1977.0]    10.0273      2.616      3.833      0.000       4.900      15.155\n",
      "C(year)[T.1978.0]     5.2925      2.408      2.198      0.028       0.573      10.012\n",
      "C(year)[T.1979.0]     3.1138      2.575      1.209      0.227      -1.933       8.161\n",
      "C(year)[T.1980.0]     0.2340      2.363      0.099      0.921      -4.398       4.866\n",
      "C(year)[T.1981.0]     1.4113      2.440      0.578      0.563      -3.371       6.193\n",
      "C(year)[T.1982.0]    -1.0034      2.494     -0.402      0.687      -5.892       3.885\n",
      "C(year)[T.1983.0]    -3.0700      2.559     -1.200      0.230      -8.085       1.945\n",
      "C(year)[T.1984.0]    -1.6504      2.454     -0.672      0.501      -6.461       3.160\n",
      "C(year)[T.1985.0]    -6.0959      2.674     -2.280      0.023     -11.337      -0.855\n",
      "C(year)[T.1986.0]    -2.0901      2.499     -0.836      0.403      -6.987       2.807\n",
      "C(year)[T.1987.0]    -1.4690      2.631     -0.558      0.577      -6.626       3.688\n",
      "C(year)[T.1988.0]    -4.9797      2.710     -1.838      0.066     -10.291       0.332\n",
      "C(year)[T.1989.0]    -6.6635      2.583     -2.579      0.010     -11.727      -1.600\n",
      "C(year)[T.1990.0]    -6.5798      2.508     -2.623      0.009     -11.495      -1.664\n",
      "C(year)[T.1991.0]    -7.4036      2.455     -3.015      0.003     -12.216      -2.591\n",
      "C(year)[T.1992.0]   -10.0798      2.550     -3.952      0.000     -15.078      -5.081\n",
      "C(year)[T.1993.0]    -7.5031      2.545     -2.948      0.003     -12.491      -2.515\n",
      "C(year)[T.1994.0]    -9.3242      2.575     -3.621      0.000     -14.371      -4.277\n",
      "C(year)[T.1995.0]   -11.2574      2.505     -4.494      0.000     -16.167      -6.348\n",
      "C(year)[T.1996.0]   -11.3810      2.675     -4.255      0.000     -16.624      -6.138\n",
      "D                    -3.0799      1.268     -2.430      0.015      -5.565      -0.595\n",
      "==============================================================================\n",
      "Omnibus:                      123.346   Durbin-Watson:                   1.327\n",
      "Prob(Omnibus):                  0.000   Jarque-Bera (JB):              428.868\n",
      "Skew:                           0.319   Prob(JB):                     7.46e-94\n",
      "Kurtosis:                       5.441   Cond. No.                         62.6\n",
      "==============================================================================\n",
      "\n",
      "Notes:\n",
      "[1] Standard Errors are heteroscedasticity robust (HC1)\n"
     ]
    }
   ],
   "source": [
    "# Regressão controlando os efeitos fixos id e ano, com erro padrão robusto à heterocedasticidade.\n",
    "reg = smf.wls('asmrs ~ D + C(stfips) + C(year)', data=data).fit(cov_type='HC1')\n",
    "print(reg.summary())"
   ]
  },
  {
   "cell_type": "markdown",
   "metadata": {},
   "source": [
    "O efeito para D foi: -3.0799. Podemos programar para ter o resultado mais direto.\n"
   ]
  },
  {
   "cell_type": "code",
   "execution_count": 73,
   "metadata": {},
   "outputs": [
    {
     "data": {
      "text/html": [
       "<div>\n",
       "<style scoped>\n",
       "    .dataframe tbody tr th:only-of-type {\n",
       "        vertical-align: middle;\n",
       "    }\n",
       "\n",
       "    .dataframe tbody tr th {\n",
       "        vertical-align: top;\n",
       "    }\n",
       "\n",
       "    .dataframe thead th {\n",
       "        text-align: right;\n",
       "    }\n",
       "</style>\n",
       "<table border=\"1\" class=\"dataframe\">\n",
       "  <thead>\n",
       "    <tr style=\"text-align: right;\">\n",
       "      <th></th>\n",
       "      <th>Coef.</th>\n",
       "      <th>Std.Err.</th>\n",
       "      <th>z</th>\n",
       "      <th>P&gt;|z|</th>\n",
       "      <th>[0.025</th>\n",
       "      <th>0.975]</th>\n",
       "    </tr>\n",
       "  </thead>\n",
       "  <tbody>\n",
       "    <tr>\n",
       "      <th>Intercept</th>\n",
       "      <td>42.502322</td>\n",
       "      <td>2.412077</td>\n",
       "      <td>17.620632</td>\n",
       "      <td>1.710817e-69</td>\n",
       "      <td>37.774738</td>\n",
       "      <td>47.229905</td>\n",
       "    </tr>\n",
       "    <tr>\n",
       "      <th>D</th>\n",
       "      <td>-3.079926</td>\n",
       "      <td>1.267705</td>\n",
       "      <td>-2.429529</td>\n",
       "      <td>1.511846e-02</td>\n",
       "      <td>-5.564582</td>\n",
       "      <td>-0.595270</td>\n",
       "    </tr>\n",
       "  </tbody>\n",
       "</table>\n",
       "</div>"
      ],
      "text/plain": [
       "               Coef.  Std.Err.          z         P>|z|     [0.025     0.975]\n",
       "Intercept  42.502322  2.412077  17.620632  1.710817e-69  37.774738  47.229905\n",
       "D          -3.079926  1.267705  -2.429529  1.511846e-02  -5.564582  -0.595270"
      ]
     },
     "execution_count": 73,
     "metadata": {},
     "output_type": "execute_result"
    }
   ],
   "source": [
    "# Regressão controlando os efeitos fixos id e ano, com erro padrão robusto à heterocedasticidade.\n",
    "smf.wls('asmrs ~ 1 + D + C(stfips) + C(year)', data=data).fit(cov_type='HC1').summary2().tables[1].loc[['Intercept', 'D'], :]"
   ]
  },
  {
   "cell_type": "markdown",
   "metadata": {},
   "source": [
    "Vejamos como construir o gráfico do Event Study para o artigo de Stevenson and Wolfers (2006)."
   ]
  },
  {
   "cell_type": "code",
   "execution_count": 75,
   "metadata": {},
   "outputs": [
    {
     "data": {
      "text/plain": [
       "count    1188.000000\n",
       "mean        6.416667\n",
       "std        10.162403\n",
       "min       -21.000000\n",
       "25%        -2.000000\n",
       "50%         6.000000\n",
       "75%        15.000000\n",
       "max        27.000000\n",
       "Name: timeToTreat, dtype: float64"
      ]
     },
     "execution_count": 75,
     "metadata": {},
     "output_type": "execute_result"
    }
   ],
   "source": [
    "# Criar uma variável de tempo até o ano do início do tratamento (Tempo em relação ao início do evento)\n",
    "data['timeToTreat'] = data['year'] - data['_nfd']\n",
    "data['timeToTreat'].describe()"
   ]
  },
  {
   "cell_type": "markdown",
   "metadata": {},
   "source": [
    "Repare que vai de -21 à 27. Temos 21 Leads e 27 Lags."
   ]
  },
  {
   "cell_type": "code",
   "execution_count": null,
   "metadata": {},
   "outputs": [
    {
     "data": {
      "image/png": "[encoded data removed]",
      "text/plain": [
       "<Figure size 640x480 with 1 Axes>"
      ]
     },
     "metadata": {
      "image/png": {
       "height": 480,
       "width": 640
      },
      "needs_background": "light"
     },
     "output_type": "display_data"
    },
    {
     "data": {
      "text/plain": [
       "<Figure Size: (640 x 480)>"
      ]
     },
     "execution_count": 74,
     "metadata": {},
     "output_type": "execute_result"
    }
   ],
   "source": [
    "# Criando as variáveis desagregadas do efeito de D manualmente:\n",
    "\n",
    "data['lead1'] = data['timeToTreat'] == -1\n",
    "data['lead2'] = data['timeToTreat'] == -2\n",
    "data['lead3'] = data['timeToTreat'] == -3\n",
    "data['lead4'] = data['timeToTreat'] == -4\n",
    "data['lead5'] = data['timeToTreat'] == -5\n",
    "data['lead6'] = data['timeToTreat'] == -6\n",
    "data['lead7'] = data['timeToTreat'] == -7\n",
    "data['lead8'] = data['timeToTreat'] == -8\n",
    "data['lead9'] = data['timeToTreat'] == -9\n",
    "data['lead10'] = data['timeToTreat'] == -10\n",
    "data['lead11'] = data['timeToTreat'] == -11\n",
    "data['lead12'] = data['timeToTreat'] == -12\n",
    "data['lead13'] = data['timeToTreat'] == -13\n",
    "data['lead14'] = data['timeToTreat'] == -14\n",
    "data['lead15'] = data['timeToTreat'] == -15\n",
    "data['lead16'] = data['timeToTreat'] == -16\n",
    "data['lead17'] = data['timeToTreat'] == -17\n",
    "data['lead18'] = data['timeToTreat'] == -18\n",
    "data['lead19'] = data['timeToTreat'] == -19\n",
    "data['lead20'] = data['timeToTreat'] == -20\n",
    "data['lead21'] = data['timeToTreat'] == -21\n",
    "\n",
    "data['lag0'] = data['timeToTreat'] == 0 \n",
    "data['lag1'] = data['timeToTreat'] == 1 \n",
    "data['lag2'] = data['timeToTreat'] == 2 \n",
    "data['lag3'] = data['timeToTreat'] == 3 \n",
    "data['lag4'] = data['timeToTreat'] == 4 \n",
    "data['lag5'] = data['timeToTreat'] == 5 \n",
    "data['lag6'] = data['timeToTreat'] == 6 \n",
    "data['lag7'] = data['timeToTreat'] == 7 \n",
    "data['lag8'] = data['timeToTreat'] == 8 \n",
    "data['lag9'] = data['timeToTreat'] == 9 \n",
    "data['lag10'] = data['timeToTreat'] == 10 \n",
    "data['lag11'] = data['timeToTreat'] == 11 \n",
    "data['lag12'] = data['timeToTreat'] == 12 \n",
    "data['lag13'] = data['timeToTreat'] == 13 \n",
    "data['lag14'] = data['timeToTreat'] == 14 \n",
    "data['lag15'] = data['timeToTreat'] == 15 \n",
    "data['lag16'] = data['timeToTreat'] == 16 \n",
    "data['lag17'] = data['timeToTreat'] == 17 \n",
    "data['lag18'] = data['timeToTreat'] == 18 \n",
    "data['lag19'] = data['timeToTreat'] == 19 \n",
    "data['lag20'] = data['timeToTreat'] == 20 \n",
    "data['lag21'] = data['timeToTreat'] == 21 \n",
    "data['lag22'] = data['timeToTreat'] == 22 \n",
    "data['lag23'] = data['timeToTreat'] == 23 \n",
    "data['lag24'] = data['timeToTreat'] == 24 \n",
    "data['lag25'] = data['timeToTreat'] == 25 \n",
    "data['lag26'] = data['timeToTreat'] == 26 \n",
    "data['lag27'] = data['timeToTreat'] == 27 \n",
    "\n",
    "# Desagregamos o efeito D, e consideramos os efeitos fixos.\n",
    "formula = \"asmrs ~ lead21 + lead20 + lead19 + lead18 + lead17 + lead16 + lead15 + lead14 + lead13 + lead12 + lead11 + lead10 + lead9 + lead8 + lead7 + lead6 + lead5 + lead4 + lead3 + lead2 + lead1 + lag1 + lag2 + lag3 + lag4 + lag5 + lag6 + lag7 + lag8 + lag9 + lag10 + lag11 + lag12 + lag13 + lag14 + lag15 + lag16 + lag17 + lag18 + lag19 + lag20 + lag21 + lag22 + lag23 + lag24 + lag25 + lag26 + lag27 + C(year) + C(stfips)\"\n",
    "\n",
    "# Os coeficientes para o Event Study são estimados:\n",
    "reg_event_study = smf.wls(formula, data = data).fit(cov_type='HC1')\n",
    "\n",
    "# Criamos duas listas com os coeficientes estimados\n",
    "leads = ['lead21[T.True]', 'lead20[T.True]', 'lead19[T.True]', 'lead18[T.True]', 'lead17[T.True]', 'lead16[T.True]', 'lead15[T.True]', 'lead14[T.True]', 'lead13[T.True]', 'lead12[T.True]', 'lead11[T.True]', 'lead10[T.True]', 'lead9[T.True]', 'lead8[T.True]', 'lead7[T.True]', 'lead6[T.True]', 'lead5[T.True]', 'lead4[T.True]', 'lead3[T.True]', 'lead2[T.True]', 'lead1[T.True]']\n",
    "lags = ['lag1[T.True]', 'lag2[T.True]', 'lag3[T.True]', 'lag4[T.True]', 'lag5[T.True]', 'lag6[T.True]', 'lag7[T.True]', 'lag8[T.True]', 'lag9[T.True]', 'lag10[T.True]', 'lag11[T.True]', 'lag12[T.True]', 'lag13[T.True]', 'lag14[T.True]', 'lag15[T.True]', 'lag16[T.True]', 'lag17[T.True]', 'lag18[T.True]', 'lag19[T.True]', 'lag20[T.True]', 'lag21[T.True]', 'lag22[T.True]', 'lag23[T.True]', 'lag24[T.True]', 'lag25[T.True]', 'lag26[T.True]', 'lag27[T.True]']\n",
    "\n",
    "# Agora a ideia é construir um DataFrame com os coeficientes estimados e seus respectivos desvios padrão para depois gerar o gráfico do Event Study.\n",
    "# Coeficientes das variáveis 'leads' e 'lags'\n",
    "coef_leads = reg_event_study.params[leads]\n",
    "coef_lags = reg_event_study.params[lags]\n",
    "\n",
    "# Desvios padrão dos coeficientes 'leads' e 'lags'\n",
    "std_leads = np.sqrt(np.diag(reg_event_study.cov_params().loc[leads][leads]))\n",
    "std_lags = np.sqrt(np.diag(reg_event_study.cov_params().loc[lags][lags]))\n",
    "\n",
    "# Crie um DataFrame para 'leads'\n",
    "df_leads = pd.DataFrame({\n",
    "    'mean': coef_leads,\n",
    "    'sd': std_leads,\n",
    "    'variable': leads\n",
    "})\n",
    "\n",
    "# Crie um DataFrame para 'lags'\n",
    "df_lags = pd.DataFrame({\n",
    "    'mean': coef_lags,\n",
    "    'sd': std_lags,\n",
    "    'variable': lags\n",
    "})\n",
    "\n",
    "# Combine os DataFrames de 'leads' e 'lags'\n",
    "leadslags_plot = pd.concat([df_leads, df_lags])\n",
    "\n",
    "leadslags_plot['lb'] = leadslags_plot['mean'] - leadslags_plot['sd']*1.96\n",
    "leadslags_plot['ub'] = leadslags_plot['mean'] + leadslags_plot['sd']*1.96\n",
    "\n",
    "leadslags_plot['N'] = range(1, len(leadslags_plot) + 1)\n",
    "leadslags_plot['TimeToTreat'] = leadslags_plot['N'] - 21\n",
    "\n",
    "# Código para plotar o Event Study\n",
    "p.ggplot(leadslags_plot, p.aes(x = 'TimeToTreat', y = 'mean',\n",
    "             ymin = 'lb', \n",
    "             ymax = 'ub')) +\\\n",
    "    p.geom_hline(yintercept = -3.0799, color = \"red\") +\\\n",
    "    p.geom_pointrange() +\\\n",
    "    p.theme_minimal() +\\\n",
    "    p.xlab(\"Years before and after Treatment\") +\\\n",
    "    p.ylab(\"log(Homicide Rate)\") +\\\n",
    "    p.geom_hline(yintercept = 0,\n",
    "             linetype = \"dashed\") +\\\n",
    "    p.geom_vline(xintercept = 0,\n",
    "             linetype = \"dashed\")"
   ]
  },
  {
   "cell_type": "markdown",
   "metadata": {},
   "source": [
    "Percebemos no Gráfico de Event Study que o efeito do tratamento é negativo e significativo para os anos posteriores à intervenção. Principalmente após o sétimo ano. O efeito médio estimado para o período pós-intervenção é de -3.0799. Fica evidente que o efeito do tratamento é gradual.\n",
    "\n",
    "Esse exemplo anterior foi motivo de muita discussão na literatura. Principalmente na literatura de econometria teórica, porque surge dúvidas sobre possíveis viéses do estimador porque eles está considerando diversos grupos de tratamento e controles distintos. Por exemplo, existem estados que começam o tratamento em 1971, outros em 1972, outros em 1973, e assim por diante. "
   ]
  },
  {
   "cell_type": "markdown",
   "metadata": {},
   "source": [
    "#### Considerações sobre o DD\n",
    "\n",
    "Para que o DD identifique o efeito causal, é importante que tanto indivíduos tratados quanto os de controle permaneçam similares nas suas **características não observáveis** ao longo do tempo, especialmente após a intervenção.\n",
    "\n",
    "Caso ocorram mudanças expressivas que afetem a composição dos indivíduos que formam os grupos, haverá complicação na comparabilidade temporal. (P. ex., migração entre municípios, habilidades valorizadas em determinados mercados de trabalho, etc).\n",
    "\n",
    "A perda de comparabilidade dos grupos ao longo do tempo compromete o DD.\n",
    "\n",
    "De forma geral, o estimador DD **não identificará o efeito causal de interesse** quando houver algum tipo de **característica não observável que varie no tempo** e **afete** simultaneamente a **variável de resultado e a escolha pelo tratamento**. (p.ex. variável de confusão não observável não constante)."
   ]
  },
  {
   "cell_type": "markdown",
   "metadata": {},
   "source": [
    "#### Boas Práticas para o DD\n",
    "\n",
    "* Verificar se as características observáveis dos tratados e controles permanecem relativamente estáveis no tempo. \n",
    "* É importante tentar verificar se as tendências temporais da variável de resultado entre os grupos são semelhantes antes da intervenção (Event Study)."
   ]
  }
 ],
 "metadata": {
  "kernelspec": {
   "display_name": "Python 3",
   "language": "python",
   "name": "python3"
  },
  "language_info": {
   "codemirror_mode": {
    "name": "ipython",
    "version": 3
   },
   "file_extension": ".py",
   "mimetype": "text/x-python",
   "name": "python",
   "nbconvert_exporter": "python",
   "pygments_lexer": "ipython3",
   "version": "3.11.5"
  }
 },
 "nbformat": 4,
 "nbformat_minor": 2
}
