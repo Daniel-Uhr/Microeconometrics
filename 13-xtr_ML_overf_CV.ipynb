{
 "cells": [
  {
   "cell_type": "markdown",
   "metadata": {
    "notebookRunGroups": {
     "groupValue": "1"
    }
   },
   "source": [
    "# Machine Learning, Overfitting e Cross-Validation\n",
    "\n",
    "Prof. Daniel de Abreu Pereira Uhr\n",
    "\n",
    "## Conteúdo\n",
    "\n",
    "* Machine Learning\n",
    "* Overfitting\n",
    "* Cross-Validation\n",
    "\n",
    "## Referências\n",
    "\n",
    "**Principais:**\n",
    "* Microsoft EconML: https://econml.azurewebsites.net/\n",
    "* UBER CausalML: https://causalml.readthedocs.io/en/latest/\n",
    "* Microsoft DoWhy: https://microsoft.github.io/dowhy/\n",
    "* Google CausalImpact: https://google.github.io/CausalImpact/CausalImpact.html\n",
    "* Prophet: https://facebook.github.io/prophet/\n",
    "* Statsmodels: https://www.statsmodels.org/stable/index.html\n",
    "* Scikit-learn: https://scikit-learn.org/stable/index.html\n",
    "* XGBoost: https://xgboost.readthedocs.io/en/latest/\n",
    "* LightGBM: https://lightgbm.readthedocs.io/en/latest/\n",
    "* CatBoost: https://catboost.ai/"
   ]
  },
  {
   "cell_type": "markdown",
   "metadata": {},
   "source": [
    "## Machine Learning\n",
    "\n",
    "Machine Learning é uma área da Inteligência Artificial que estuda métodos computacionais para aprender a partir de dados. O aprendizado é feito por meio de algoritmos que constroem modelos matemáticos a partir de dados de treinamento. Esses modelos são usados para fazer previsões ou tomar decisões sem serem explicitamente programados.\n",
    "\n",
    "Os modelos de Machine Learning são divididos em duas categorias principais: supervisionados e não supervisionados.\n",
    "\n",
    "### Aprendizado Supervisionado\n",
    "\n",
    "No aprendizado supervisionado, o algoritmo é treinado em um conjunto de dados rotulados, ou seja, cada exemplo de treinamento é um par de entrada-saída. O objetivo é aprender uma função que mapeia as entradas para as saídas.\n",
    "\n",
    "Os principais tipos de problemas de aprendizado supervisionado são classificação e regressão.\n",
    "\n",
    "#### Classificação\n",
    "\n",
    "Na classificação, o objetivo é prever a classe de uma instância de entrada. Por exemplo, um modelo de classificação pode ser treinado para prever se um e-mail é spam ou não spam.\n",
    "\n",
    "#### Regressão\n",
    "\n",
    "Na regressão, o objetivo é prever um valor contínuo. Por exemplo, um modelo de regressão pode ser treinado para prever o preço de uma casa com base em suas características.\n",
    "\n",
    "### Aprendizado Não Supervisionado\n",
    "\n",
    "No aprendizado não supervisionado, o algoritmo é treinado em um conjunto de dados não rotulados, ou seja, não há saídas associadas a cada exemplo de treinamento. O objetivo é encontrar padrões nos dados, como grupos de instâncias semelhantes.\n",
    "\n",
    "Os principais tipos de problemas de aprendizado não supervisionado são clustering e redução de dimensionalidade.\n",
    "\n",
    "#### Clustering\n",
    "\n",
    "No clustering, o objetivo é agrupar instâncias semelhantes em clusters. Por exemplo, um algoritmo de clustering pode ser usado para agrupar clientes com base em suas compras.\n",
    "\n",
    "#### Redução de Dimensionalidade\n",
    "\n",
    "Na redução de dimensionalidade, o objetivo é reduzir a dimensionalidade dos dados, mantendo o máximo de informação possível. Por exemplo, um algoritmo de redução de dimensionalidade pode ser usado para visualizar dados em um espaço de menor dimensão.\n",
    "\n",
    "## Overfitting\n",
    "\n",
    "Overfitting é um problema comum em Machine Learning, no qual um modelo se ajusta demais aos dados de treinamento e não generaliza bem para novos dados. Isso pode levar a um desempenho ruim do modelo em dados de teste.\n",
    "\n",
    "Existem várias maneiras de evitar o overfitting:\n",
    "\n"
   ]
  },
  {
   "cell_type": "markdown",
   "metadata": {},
   "source": [
    "Regularização é uma técnica usada em estatística, econometria e aprendizado de máquina para prevenir overfitting e melhorar a capacidade de generalização de um modelo. Ela funciona adicionando uma penalidade à função de perda do modelo, desincentivando coeficientes muito grandes ou complexidades excessivas.\n",
    "\n",
    "\n",
    "**Por que Regularização é Necessária?**\n",
    "\n",
    "Quando um modelo é muito flexível (e.g., possui muitos parâmetros ou uma arquitetura muito complexa), ele pode ajustar o ruído dos dados de treino em vez de capturar apenas os padrões relevantes. Isso leva a um bom desempenho nos dados de treino, mas uma performance ruim em dados novos (overfitting).\n",
    "\n",
    "Regularização força o modelo a ser mais simples, penalizando ajustes muito extremos nos parâmetros.\n",
    "\n",
    "**Como funciona a Regularização?**\n",
    "\n",
    "Regularização modifica a função de perda adicionando um termo que penaliza a complexidade do modelo. Esse termo de penalização depende dos coeficientes $\\beta$ do modelo.\n",
    "\n",
    "\n",
    "1. Função de perda padrão (sem regularização): \n",
    "\n",
    "No caso de uma regressão linear, a função de perda geralmente é o erro quadrático médio (MSE):\n",
    "\n",
    "$$L(\\beta) = \\frac{1}{n} \\sum_{i=1}^{n} (y_i - \\hat{y}_i)^2$$\n",
    "\n",
    "\n",
    "2. Função de perda com regularização:\n",
    "\n",
    "Ao adicionar um termo de regularização, a função de perda se torna:\n",
    "\n",
    "$$L(\\beta) = \\frac{1}{n} \\sum_{i=1}^{n} (y_i - \\hat{y}_i)^2 + \\lambda R(\\beta)$$\n",
    "\n",
    "* R(β): Termo de regularização que mede a complexidade do modelo.\n",
    "* $λ>0$: Hiperparâmetro que controla a intensidade da penalização."
   ]
  }
 ],
 "metadata": {
  "language_info": {
   "name": "python"
  }
 },
 "nbformat": 4,
 "nbformat_minor": 2
}
